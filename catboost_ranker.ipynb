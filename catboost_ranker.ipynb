{
 "cells": [
  {
   "cell_type": "markdown",
   "metadata": {},
   "source": [
    "### Load Libraries"
   ]
  },
  {
   "cell_type": "code",
   "execution_count": 1,
   "metadata": {},
   "outputs": [
    {
     "name": "stderr",
     "output_type": "stream",
     "text": [
      "/Users/rafael/miniconda3/envs/tide/lib/python3.10/site-packages/tqdm/auto.py:21: TqdmWarning: IProgress not found. Please update jupyter and ipywidgets. See https://ipywidgets.readthedocs.io/en/stable/user_install.html\n",
      "  from .autonotebook import tqdm as notebook_tqdm\n"
     ]
    }
   ],
   "source": [
    "%matplotlib inline\n",
    "import pandas as pd\n",
    "from catboost import CatBoostRanker, Pool\n",
    "import seaborn as sns\n",
    "import matplotlib.pyplot as plt\n",
    "import numpy as np\n",
    "import random\n",
    "from sklearn.metrics import ndcg_score\n",
    "from category_encoders.cat_boost import CatBoostEncoder\n",
    "from sklearn.decomposition import PCA\n",
    "from sentence_transformers import SentenceTransformer"
   ]
  },
  {
   "cell_type": "markdown",
   "metadata": {},
   "source": [
    "### Load Data"
   ]
  },
  {
   "cell_type": "code",
   "execution_count": 2,
   "metadata": {},
   "outputs": [
    {
     "name": "stderr",
     "output_type": "stream",
     "text": [
      "/var/folders/__/0vgg46cj4kd89x5czn4s5cn40000gp/T/ipykernel_21079/1997999642.py:1: DtypeWarning: Columns (3) have mixed types. Specify dtype option on import or set low_memory=False.\n",
      "  books_df = pd.read_csv('data/Books.csv')\n"
     ]
    },
    {
     "data": {
      "text/html": [
       "<div>\n",
       "<style scoped>\n",
       "    .dataframe tbody tr th:only-of-type {\n",
       "        vertical-align: middle;\n",
       "    }\n",
       "\n",
       "    .dataframe tbody tr th {\n",
       "        vertical-align: top;\n",
       "    }\n",
       "\n",
       "    .dataframe thead th {\n",
       "        text-align: right;\n",
       "    }\n",
       "</style>\n",
       "<table border=\"1\" class=\"dataframe\">\n",
       "  <thead>\n",
       "    <tr style=\"text-align: right;\">\n",
       "      <th></th>\n",
       "      <th>User-ID</th>\n",
       "      <th>Location</th>\n",
       "      <th>Age</th>\n",
       "      <th>ISBN</th>\n",
       "      <th>Book-Rating</th>\n",
       "      <th>Book-Title</th>\n",
       "      <th>Book-Author</th>\n",
       "      <th>Year-Of-Publication</th>\n",
       "      <th>Publisher</th>\n",
       "      <th>Image-URL-S</th>\n",
       "      <th>Image-URL-M</th>\n",
       "      <th>Image-URL-L</th>\n",
       "    </tr>\n",
       "  </thead>\n",
       "  <tbody>\n",
       "    <tr>\n",
       "      <th>0</th>\n",
       "      <td>1</td>\n",
       "      <td>nyc, new york, usa</td>\n",
       "      <td>NaN</td>\n",
       "      <td>NaN</td>\n",
       "      <td>NaN</td>\n",
       "      <td>NaN</td>\n",
       "      <td>NaN</td>\n",
       "      <td>NaN</td>\n",
       "      <td>NaN</td>\n",
       "      <td>NaN</td>\n",
       "      <td>NaN</td>\n",
       "      <td>NaN</td>\n",
       "    </tr>\n",
       "    <tr>\n",
       "      <th>1</th>\n",
       "      <td>2</td>\n",
       "      <td>stockton, california, usa</td>\n",
       "      <td>18.0</td>\n",
       "      <td>0195153448</td>\n",
       "      <td>0.0</td>\n",
       "      <td>Classical Mythology</td>\n",
       "      <td>Mark P. O. Morford</td>\n",
       "      <td>2002</td>\n",
       "      <td>Oxford University Press</td>\n",
       "      <td>http://images.amazon.com/images/P/0195153448.0...</td>\n",
       "      <td>http://images.amazon.com/images/P/0195153448.0...</td>\n",
       "      <td>http://images.amazon.com/images/P/0195153448.0...</td>\n",
       "    </tr>\n",
       "    <tr>\n",
       "      <th>2</th>\n",
       "      <td>3</td>\n",
       "      <td>moscow, yukon territory, russia</td>\n",
       "      <td>NaN</td>\n",
       "      <td>NaN</td>\n",
       "      <td>NaN</td>\n",
       "      <td>NaN</td>\n",
       "      <td>NaN</td>\n",
       "      <td>NaN</td>\n",
       "      <td>NaN</td>\n",
       "      <td>NaN</td>\n",
       "      <td>NaN</td>\n",
       "      <td>NaN</td>\n",
       "    </tr>\n",
       "    <tr>\n",
       "      <th>3</th>\n",
       "      <td>4</td>\n",
       "      <td>porto, v.n.gaia, portugal</td>\n",
       "      <td>17.0</td>\n",
       "      <td>NaN</td>\n",
       "      <td>NaN</td>\n",
       "      <td>NaN</td>\n",
       "      <td>NaN</td>\n",
       "      <td>NaN</td>\n",
       "      <td>NaN</td>\n",
       "      <td>NaN</td>\n",
       "      <td>NaN</td>\n",
       "      <td>NaN</td>\n",
       "    </tr>\n",
       "    <tr>\n",
       "      <th>4</th>\n",
       "      <td>5</td>\n",
       "      <td>farnborough, hants, united kingdom</td>\n",
       "      <td>NaN</td>\n",
       "      <td>NaN</td>\n",
       "      <td>NaN</td>\n",
       "      <td>NaN</td>\n",
       "      <td>NaN</td>\n",
       "      <td>NaN</td>\n",
       "      <td>NaN</td>\n",
       "      <td>NaN</td>\n",
       "      <td>NaN</td>\n",
       "      <td>NaN</td>\n",
       "    </tr>\n",
       "  </tbody>\n",
       "</table>\n",
       "</div>"
      ],
      "text/plain": [
       "   User-ID                            Location   Age        ISBN  Book-Rating  \\\n",
       "0        1                  nyc, new york, usa   NaN         NaN          NaN   \n",
       "1        2           stockton, california, usa  18.0  0195153448          0.0   \n",
       "2        3     moscow, yukon territory, russia   NaN         NaN          NaN   \n",
       "3        4           porto, v.n.gaia, portugal  17.0         NaN          NaN   \n",
       "4        5  farnborough, hants, united kingdom   NaN         NaN          NaN   \n",
       "\n",
       "            Book-Title         Book-Author Year-Of-Publication  \\\n",
       "0                  NaN                 NaN                 NaN   \n",
       "1  Classical Mythology  Mark P. O. Morford                2002   \n",
       "2                  NaN                 NaN                 NaN   \n",
       "3                  NaN                 NaN                 NaN   \n",
       "4                  NaN                 NaN                 NaN   \n",
       "\n",
       "                 Publisher                                        Image-URL-S  \\\n",
       "0                      NaN                                                NaN   \n",
       "1  Oxford University Press  http://images.amazon.com/images/P/0195153448.0...   \n",
       "2                      NaN                                                NaN   \n",
       "3                      NaN                                                NaN   \n",
       "4                      NaN                                                NaN   \n",
       "\n",
       "                                         Image-URL-M  \\\n",
       "0                                                NaN   \n",
       "1  http://images.amazon.com/images/P/0195153448.0...   \n",
       "2                                                NaN   \n",
       "3                                                NaN   \n",
       "4                                                NaN   \n",
       "\n",
       "                                         Image-URL-L  \n",
       "0                                                NaN  \n",
       "1  http://images.amazon.com/images/P/0195153448.0...  \n",
       "2                                                NaN  \n",
       "3                                                NaN  \n",
       "4                                                NaN  "
      ]
     },
     "execution_count": 2,
     "metadata": {},
     "output_type": "execute_result"
    }
   ],
   "source": [
    "books_df = pd.read_csv('data/Books.csv')\n",
    "users_df = pd.read_csv('data/Users.csv')\n",
    "ratings_df = pd.read_csv('data/Ratings.csv')\n",
    "\n",
    "df = pd.merge(users_df, ratings_df, on='User-ID', how='left')\n",
    "df = pd.merge(df, books_df, on='ISBN', how='left')\n",
    "\n",
    "df.head()"
   ]
  },
  {
   "cell_type": "markdown",
   "metadata": {},
   "source": [
    "### Exploratory Data Analysis"
   ]
  },
  {
   "cell_type": "markdown",
   "metadata": {},
   "source": [
    "1. Remove observations where the user did not read the book"
   ]
  },
  {
   "cell_type": "code",
   "execution_count": 3,
   "metadata": {},
   "outputs": [],
   "source": [
    "df = df[df['Book-Rating'].notnull()]"
   ]
  },
  {
   "cell_type": "markdown",
   "metadata": {},
   "source": [
    "2. Check missing values\n",
    " - Replace Book-Author and Publisher with `unknown`"
   ]
  },
  {
   "cell_type": "code",
   "execution_count": 4,
   "metadata": {},
   "outputs": [
    {
     "data": {
      "text/plain": [
       "['Age',\n",
       " 'Book-Title',\n",
       " 'Book-Author',\n",
       " 'Year-Of-Publication',\n",
       " 'Publisher',\n",
       " 'Image-URL-S',\n",
       " 'Image-URL-M',\n",
       " 'Image-URL-L']"
      ]
     },
     "execution_count": 4,
     "metadata": {},
     "output_type": "execute_result"
    }
   ],
   "source": [
    "df.columns[df.isna().any()].tolist()"
   ]
  },
  {
   "cell_type": "code",
   "execution_count": 5,
   "metadata": {},
   "outputs": [],
   "source": [
    "df['Book-Author'] = df['Book-Author'].fillna('unknown')\n",
    "df['Publisher'] = df['Publisher'].fillna('unknown')"
   ]
  },
  {
   "cell_type": "markdown",
   "metadata": {},
   "source": [
    "3. Remove observations with missing information about the book"
   ]
  },
  {
   "cell_type": "code",
   "execution_count": 6,
   "metadata": {},
   "outputs": [],
   "source": [
    "df = df[df['Book-Title'].notnull()]"
   ]
  },
  {
   "cell_type": "markdown",
   "metadata": {},
   "source": [
    "4. Replace non integer Years with Nans"
   ]
  },
  {
   "cell_type": "code",
   "execution_count": 7,
   "metadata": {},
   "outputs": [],
   "source": [
    "df['Year-Of-Publication'] = pd.to_numeric(df['Year-Of-Publication'], errors='coerce')"
   ]
  },
  {
   "cell_type": "markdown",
   "metadata": {},
   "source": [
    "5. Check Age, Year-Of-Publication and Book-Rating distribution"
   ]
  },
  {
   "cell_type": "code",
   "execution_count": 8,
   "metadata": {},
   "outputs": [
    {
     "data": {
      "image/png": "[encoded data removed]",
      "text/plain": [
       "<Figure size 2000x300 with 1 Axes>"
      ]
     },
     "metadata": {},
     "output_type": "display_data"
    },
    {
     "data": {
      "image/png": "[encoded data removed]",
      "text/plain": [
       "<Figure size 2000x300 with 1 Axes>"
      ]
     },
     "metadata": {},
     "output_type": "display_data"
    },
    {
     "data": {
      "image/png": "[encoded data removed]",
      "text/plain": [
       "<Figure size 2000x300 with 1 Axes>"
      ]
     },
     "metadata": {},
     "output_type": "display_data"
    }
   ],
   "source": [
    "plt.rcParams[\"figure.figsize\"] = (20,3)\n",
    "sns.histplot(data=df, x='Age')\n",
    "plt.title('Age Distribution')\n",
    "plt.show()\n",
    "\n",
    "sns.histplot(data=df, x='Year-Of-Publication')\n",
    "plt.title('Year-Of-Publication Distribution')\n",
    "plt.show()\n",
    "\n",
    "sns.histplot(data=df, x='Book-Rating')\n",
    "plt.title('Book-Rating Distribution')\n",
    "plt.show()\n"
   ]
  },
  {
   "cell_type": "markdown",
   "metadata": {},
   "source": [
    "6. Clean up data:\n",
    "    - Replace Ages with values higher than 100 (which seems an error) with Nans\n",
    "    - Replace Year-of-Publication <= 0 with median value and setting the maximum possible year to 2021\n",
    "    - Remove Observations with Rating = 0, since those where books read by the user but they did not rated them\n",
    "    - Create 3 features (city, state, country) from Location"
   ]
  },
  {
   "cell_type": "code",
   "execution_count": 9,
   "metadata": {},
   "outputs": [],
   "source": [
    "df['Age'] = np.where(df['Age'] > 100, None, df['Age'])\n",
    "\n",
    "df['Year-Of-Publication'] = np.where(df['Year-Of-Publication'] <= 0, np.nanmedian(df['Year-Of-Publication']), df['Year-Of-Publication']).clip(0, 2021).astype(str)\n",
    "\n",
    "df = df[df['Book-Rating'] > 0]\n",
    "\n",
    "df['city'] = df['Location'].apply(lambda x: x.split(',')[0].strip()) # too noisy, we will not use\n",
    "df['state'] = df['Location'].apply(lambda x: x.split(',')[1].strip())\n",
    "df['country'] = df['Location'].apply(lambda x: x.split(',')[2].strip())"
   ]
  },
  {
   "cell_type": "markdown",
   "metadata": {},
   "source": [
    "### Modeling"
   ]
  },
  {
   "cell_type": "markdown",
   "metadata": {},
   "source": [
    "#### Split Test-Train Data"
   ]
  },
  {
   "cell_type": "code",
   "execution_count": 10,
   "metadata": {},
   "outputs": [],
   "source": [
    "# create list with unique users\n",
    "users = df['User-ID'].unique()\n",
    "# shuffle list\n",
    "random.shuffle(users)\n",
    "# create list of users to train, to validate and to test\n",
    "train_users = users[:int(0.7*len(users))]\n",
    "val_users = users[int(0.7*len(users)):int(0.8*len(users))]\n",
    "test_users = users[int(0.8*len(users)):]\n",
    "# train, val and test df\n",
    "train_df = df[df['User-ID'].isin(train_users)]\n",
    "val_df = df[df['User-ID'].isin(val_users)]\n",
    "test_df = df[df['User-ID'].isin(test_users)]"
   ]
  },
  {
   "cell_type": "markdown",
   "metadata": {},
   "source": [
    "#### Define Features"
   ]
  },
  {
   "cell_type": "code",
   "execution_count": 14,
   "metadata": {},
   "outputs": [],
   "source": [
    "EXCLUDE_FEATURES = ['city', 'Image-URL-S', 'Image-URL-M', 'Image-URL-L', 'User-ID', 'ISBN', 'Location','Book-Title','Book-Rating']\n",
    "CATEGORICAL_FEATURES = ['Book-Author', 'Year-Of-Publication', 'Publisher', 'state', 'country']\n",
    "TARGET = ['Book-Rating']"
   ]
  },
  {
   "cell_type": "markdown",
   "metadata": {},
   "source": [
    "#### Feature Transformation"
   ]
  },
  {
   "cell_type": "markdown",
   "metadata": {},
   "source": [
    "1. Convert textual feature `Book-Title` into embedding vector"
   ]
  },
  {
   "cell_type": "code",
   "execution_count": 16,
   "metadata": {},
   "outputs": [],
   "source": [
    "# model to create embeddings\n",
    "model = SentenceTransformer(\"paraphrase-multilingual-MiniLM-L12-v2\")\n",
    "\n",
    "# train, val and test embeddings\n",
    "training_books = train_df.loc[:, [\"ISBN\", \"Book-Title\"]].drop_duplicates()\n",
    "val_books = val_df.loc[:, [\"ISBN\", \"Book-Title\"]].drop_duplicates()\n",
    "test_books = test_df.loc[:, [\"ISBN\", \"Book-Title\"]].drop_duplicates()\n",
    "\n",
    "train_embeddings = model.encode(training_books[\"Book-Title\"].tolist(), normalize_embeddings=True)\n",
    "val_embeddings = model.encode(val_books[\"Book-Title\"].tolist(), normalize_embeddings=True)\n",
    "test_embeddings = model.encode(test_books[\"Book-Title\"].tolist(), normalize_embeddings=True)\n",
    "\n",
    "# reduce dimensionality with PCA\n",
    "pca = PCA(n_components=0.8, random_state=42)\n",
    "train_embeddings = pca.fit_transform(train_embeddings)\n",
    "val_embeddings = pca.transform(val_embeddings)\n",
    "test_embeddings = pca.transform(test_embeddings)\n",
    "\n",
    "# join embeddings to dfs\n",
    "train_embeddings_df = pd.DataFrame(train_embeddings)\n",
    "train_embeddings_df.columns = [f\"Book-Title_{i}\" for i in train_embeddings_df.columns]\n",
    "training_books = pd.merge(training_books.reset_index(drop=True), train_embeddings_df, left_index=True, right_index=True)\n",
    "train_df = pd.merge(train_df, training_books, on=[\"ISBN\", \"Book-Title\"])\n",
    "\n",
    "val_embeddings_df = pd.DataFrame(val_embeddings)\n",
    "val_embeddings_df.columns = [f\"Book-Title_{i}\" for i in val_embeddings_df.columns]\n",
    "val_books = pd.merge(val_books.reset_index(drop=True), val_embeddings_df, left_index=True, right_index=True)\n",
    "val_df = pd.merge(val_df, val_books, on=[\"ISBN\", \"Book-Title\"])\n",
    "\n",
    "test_embeddings_df = pd.DataFrame(test_embeddings)\n",
    "test_embeddings_df.columns = [f\"Book-Title_{i}\" for i in test_embeddings_df.columns]\n",
    "test_books = pd.merge(test_books.reset_index(drop=True), test_embeddings_df, left_index=True, right_index=True)\n",
    "test_df = pd.merge(test_df, test_books, on=[\"ISBN\", \"Book-Title\"])"
   ]
  },
  {
   "cell_type": "markdown",
   "metadata": {},
   "source": [
    "2. Tranform Categorical features using Catboost Encoder for regression\n",
    " - we do not use directly in Catboost since in Catboost Ranker it generates One-Hot encoder vectors"
   ]
  },
  {
   "cell_type": "code",
   "execution_count": 6,
   "metadata": {},
   "outputs": [],
   "source": [
    "encoder = CatBoostEncoder()\n",
    "train_df[CATEGORICAL_FEATURES] = encoder.fit_transform(train_df[CATEGORICAL_FEATURES], train_df[TARGET])\n",
    "val_df[CATEGORICAL_FEATURES] = encoder.transform(val_df[CATEGORICAL_FEATURES])\n",
    "test_df[CATEGORICAL_FEATURES] = encoder.transform(test_df[CATEGORICAL_FEATURES])"
   ]
  },
  {
   "cell_type": "markdown",
   "metadata": {},
   "source": [
    "### Create CatBoost Pools for train and test"
   ]
  },
  {
   "cell_type": "code",
   "execution_count": 15,
   "metadata": {},
   "outputs": [],
   "source": [
    "FEATURES = [feat for feat in train_df.columns if feat not in EXCLUDE_FEATURES]\n",
    "\n",
    "# Catboost Ranker requires sorting by groupid\n",
    "train_df = train_df.sort_values(by='User-ID')\n",
    "val_df = val_df.sort_values(by='User-ID')\n",
    "test_df = test_df.sort_values(by='User-ID')"
   ]
  },
  {
   "cell_type": "code",
   "execution_count": 16,
   "metadata": {},
   "outputs": [],
   "source": [
    "train_pool = Pool(\n",
    "    data=train_df[FEATURES],\n",
    "    label=train_df[TARGET],\n",
    "    group_id=train_df['User-ID'].tolist(), # YetiRank applied to User-ID as query and books as documents\n",
    ")\n",
    "val_pool = Pool(\n",
    "    data=val_df[FEATURES],\n",
    "    label=val_df[TARGET],\n",
    "    group_id=val_df[\"User-ID\"].tolist(), # YetiRank applied to User-ID as query and books as documents\n",
    ")\n",
    "test_pool = Pool(\n",
    "    data=test_df[FEATURES],\n",
    "    group_id=test_df[\"User-ID\"].tolist(), # YetiRank applied to User-ID as query and books as documents\n",
    ")"
   ]
  },
  {
   "cell_type": "markdown",
   "metadata": {},
   "source": [
    "#### Train and Predict with CatBoost Ranker"
   ]
  },
  {
   "cell_type": "code",
   "execution_count": 17,
   "metadata": {},
   "outputs": [
    {
     "name": "stdout",
     "output_type": "stream",
     "text": [
      "0:\ttest: 0.9820663\tbest: 0.9820663 (0)\ttotal: 438ms\tremaining: 7m 17s\n",
      "100:\ttest: 0.9854171\tbest: 0.9854408 (82)\ttotal: 1m 2s\tremaining: 9m 19s\n",
      "200:\ttest: 0.9856747\tbest: 0.9856853 (193)\ttotal: 2m 20s\tremaining: 9m 19s\n",
      "300:\ttest: 0.9857390\tbest: 0.9857540 (298)\ttotal: 3m 21s\tremaining: 7m 47s\n",
      "400:\ttest: 0.9857348\tbest: 0.9858084 (357)\ttotal: 4m 14s\tremaining: 6m 19s\n",
      "Stopped by overfitting detector  (100 iterations wait)\n",
      "\n",
      "bestTest = 0.9858084028\n",
      "bestIteration = 357\n",
      "\n",
      "Shrink model to first 358 iterations.\n"
     ]
    }
   ],
   "source": [
    "model = CatBoostRanker(loss_function=\"YetiRank\", verbose=100)\n",
    "model.fit(train_pool, eval_set=val_pool, early_stopping_rounds=100)\n",
    "test_df[\"score\"] = model.predict(test_pool)"
   ]
  },
  {
   "cell_type": "markdown",
   "metadata": {},
   "source": [
    "#### Feature Importance"
   ]
  },
  {
   "cell_type": "code",
   "execution_count": 19,
   "metadata": {},
   "outputs": [
    {
     "data": {
      "image/png": "[encoded data removed]",
      "text/plain": [
       "<Figure size 1000x700 with 1 Axes>"
      ]
     },
     "metadata": {},
     "output_type": "display_data"
    }
   ],
   "source": [
    "feature_importance = model.get_feature_importance(data=train_pool, verbose=0)\n",
    "feature_importance_df = (\n",
    "        pd.DataFrame(\n",
    "            feature_importance,\n",
    "            index=FEATURES,\n",
    "            columns=[\"Importance\"],\n",
    "        )\n",
    "        .sort_values(by=\"Importance\", ascending=False)\n",
    "        .reset_index()\n",
    "    )\n",
    "\n",
    "# Set the figure size\n",
    "plt.figure(figsize=(10, 7))\n",
    "\n",
    "# plot a bar chart\n",
    "sns.barplot(\n",
    "    x=\"Importance\",\n",
    "    y=\"index\",\n",
    "    data=feature_importance_df.iloc[:25, :],\n",
    "    color=\"blue\",\n",
    ")\n",
    "plt.title(\"Feature Importance\")\n",
    "plt.ylabel(\"Feature\")\n",
    "plt.show()\n"
   ]
  },
  {
   "cell_type": "markdown",
   "metadata": {},
   "source": [
    "#### Calculate nDCG"
   ]
  },
  {
   "cell_type": "code",
   "execution_count": 49,
   "metadata": {},
   "outputs": [
    {
     "data": {
      "text/html": [
       "<div>\n",
       "<style scoped>\n",
       "    .dataframe tbody tr th:only-of-type {\n",
       "        vertical-align: middle;\n",
       "    }\n",
       "\n",
       "    .dataframe tbody tr th {\n",
       "        vertical-align: top;\n",
       "    }\n",
       "\n",
       "    .dataframe thead th {\n",
       "        text-align: right;\n",
       "    }\n",
       "</style>\n",
       "<table border=\"1\" class=\"dataframe\">\n",
       "  <thead>\n",
       "    <tr style=\"text-align: right;\">\n",
       "      <th></th>\n",
       "      <th>User-ID</th>\n",
       "      <th>Location</th>\n",
       "      <th>Age</th>\n",
       "      <th>ISBN</th>\n",
       "      <th>Book-Rating</th>\n",
       "      <th>Book-Title</th>\n",
       "      <th>Book-Author</th>\n",
       "      <th>Year-Of-Publication</th>\n",
       "      <th>Publisher</th>\n",
       "      <th>Image-URL-S</th>\n",
       "      <th>...</th>\n",
       "      <th>Book-Title_78</th>\n",
       "      <th>Book-Title_79</th>\n",
       "      <th>Book-Title_80</th>\n",
       "      <th>Book-Title_81</th>\n",
       "      <th>Book-Title_82</th>\n",
       "      <th>Book-Title_83</th>\n",
       "      <th>Book-Title_84</th>\n",
       "      <th>Book-Title_85</th>\n",
       "      <th>Book-Title_86</th>\n",
       "      <th>score</th>\n",
       "    </tr>\n",
       "  </thead>\n",
       "  <tbody>\n",
       "    <tr>\n",
       "      <th>3444</th>\n",
       "      <td>3542</td>\n",
       "      <td>jersey city, new jersey, usa</td>\n",
       "      <td>NaN</td>\n",
       "      <td>0312050631</td>\n",
       "      <td>5.0</td>\n",
       "      <td>Confessions of a Failed Southern Lady</td>\n",
       "      <td>8.388162</td>\n",
       "      <td>7.637947</td>\n",
       "      <td>7.533562</td>\n",
       "      <td>http://images.amazon.com/images/P/0312050631.0...</td>\n",
       "      <td>...</td>\n",
       "      <td>-0.021046</td>\n",
       "      <td>0.003304</td>\n",
       "      <td>0.144330</td>\n",
       "      <td>-0.061616</td>\n",
       "      <td>-0.062937</td>\n",
       "      <td>-0.039486</td>\n",
       "      <td>-0.022443</td>\n",
       "      <td>-0.017757</td>\n",
       "      <td>-0.047484</td>\n",
       "      <td>0.069867</td>\n",
       "    </tr>\n",
       "    <tr>\n",
       "      <th>3512</th>\n",
       "      <td>3542</td>\n",
       "      <td>jersey city, new jersey, usa</td>\n",
       "      <td>NaN</td>\n",
       "      <td>0452268060</td>\n",
       "      <td>2.0</td>\n",
       "      <td>How the Garcia Girls Lost Their Accents (Plume...</td>\n",
       "      <td>7.624596</td>\n",
       "      <td>7.577403</td>\n",
       "      <td>7.557836</td>\n",
       "      <td>http://images.amazon.com/images/P/0452268060.0...</td>\n",
       "      <td>...</td>\n",
       "      <td>0.036780</td>\n",
       "      <td>-0.110356</td>\n",
       "      <td>-0.012915</td>\n",
       "      <td>0.005868</td>\n",
       "      <td>0.030071</td>\n",
       "      <td>-0.046820</td>\n",
       "      <td>0.023070</td>\n",
       "      <td>-0.070544</td>\n",
       "      <td>-0.009386</td>\n",
       "      <td>-0.126694</td>\n",
       "    </tr>\n",
       "    <tr>\n",
       "      <th>3483</th>\n",
       "      <td>3542</td>\n",
       "      <td>jersey city, new jersey, usa</td>\n",
       "      <td>NaN</td>\n",
       "      <td>044651652X</td>\n",
       "      <td>3.0</td>\n",
       "      <td>The Bridges of Madison County</td>\n",
       "      <td>7.187144</td>\n",
       "      <td>7.577403</td>\n",
       "      <td>7.528039</td>\n",
       "      <td>http://images.amazon.com/images/P/044651652X.0...</td>\n",
       "      <td>...</td>\n",
       "      <td>-0.058064</td>\n",
       "      <td>-0.107017</td>\n",
       "      <td>-0.014190</td>\n",
       "      <td>-0.051545</td>\n",
       "      <td>-0.007531</td>\n",
       "      <td>-0.013312</td>\n",
       "      <td>0.052962</td>\n",
       "      <td>-0.057040</td>\n",
       "      <td>-0.019604</td>\n",
       "      <td>-0.296319</td>\n",
       "    </tr>\n",
       "    <tr>\n",
       "      <th>3451</th>\n",
       "      <td>3542</td>\n",
       "      <td>jersey city, new jersey, usa</td>\n",
       "      <td>NaN</td>\n",
       "      <td>0446310786</td>\n",
       "      <td>10.0</td>\n",
       "      <td>To Kill a Mockingbird</td>\n",
       "      <td>8.834647</td>\n",
       "      <td>7.620121</td>\n",
       "      <td>8.301352</td>\n",
       "      <td>http://images.amazon.com/images/P/0446310786.0...</td>\n",
       "      <td>...</td>\n",
       "      <td>0.020245</td>\n",
       "      <td>0.097704</td>\n",
       "      <td>0.016987</td>\n",
       "      <td>-0.079456</td>\n",
       "      <td>-0.028201</td>\n",
       "      <td>0.070153</td>\n",
       "      <td>-0.054520</td>\n",
       "      <td>-0.003642</td>\n",
       "      <td>-0.031977</td>\n",
       "      <td>0.659827</td>\n",
       "    </tr>\n",
       "  </tbody>\n",
       "</table>\n",
       "<p>4 rows × 103 columns</p>\n",
       "</div>"
      ],
      "text/plain": [
       "      User-ID                      Location  Age        ISBN  Book-Rating  \\\n",
       "3444     3542  jersey city, new jersey, usa  NaN  0312050631          5.0   \n",
       "3512     3542  jersey city, new jersey, usa  NaN  0452268060          2.0   \n",
       "3483     3542  jersey city, new jersey, usa  NaN  044651652X          3.0   \n",
       "3451     3542  jersey city, new jersey, usa  NaN  0446310786         10.0   \n",
       "\n",
       "                                             Book-Title  Book-Author  \\\n",
       "3444              Confessions of a Failed Southern Lady     8.388162   \n",
       "3512  How the Garcia Girls Lost Their Accents (Plume...     7.624596   \n",
       "3483                      The Bridges of Madison County     7.187144   \n",
       "3451                              To Kill a Mockingbird     8.834647   \n",
       "\n",
       "      Year-Of-Publication  Publisher  \\\n",
       "3444             7.637947   7.533562   \n",
       "3512             7.577403   7.557836   \n",
       "3483             7.577403   7.528039   \n",
       "3451             7.620121   8.301352   \n",
       "\n",
       "                                            Image-URL-S  ... Book-Title_78  \\\n",
       "3444  http://images.amazon.com/images/P/0312050631.0...  ...     -0.021046   \n",
       "3512  http://images.amazon.com/images/P/0452268060.0...  ...      0.036780   \n",
       "3483  http://images.amazon.com/images/P/044651652X.0...  ...     -0.058064   \n",
       "3451  http://images.amazon.com/images/P/0446310786.0...  ...      0.020245   \n",
       "\n",
       "     Book-Title_79 Book-Title_80  Book-Title_81  Book-Title_82  Book-Title_83  \\\n",
       "3444      0.003304      0.144330      -0.061616      -0.062937      -0.039486   \n",
       "3512     -0.110356     -0.012915       0.005868       0.030071      -0.046820   \n",
       "3483     -0.107017     -0.014190      -0.051545      -0.007531      -0.013312   \n",
       "3451      0.097704      0.016987      -0.079456      -0.028201       0.070153   \n",
       "\n",
       "      Book-Title_84  Book-Title_85  Book-Title_86     score  \n",
       "3444      -0.022443      -0.017757      -0.047484  0.069867  \n",
       "3512       0.023070      -0.070544      -0.009386 -0.126694  \n",
       "3483       0.052962      -0.057040      -0.019604 -0.296319  \n",
       "3451      -0.054520      -0.003642      -0.031977  0.659827  \n",
       "\n",
       "[4 rows x 103 columns]"
      ]
     },
     "execution_count": 49,
     "metadata": {},
     "output_type": "execute_result"
    }
   ],
   "source": [
    "# let's use user 3542 that has more than 1 book rated\n",
    "test_df[test_df['User-ID'] == 3542]"
   ]
  },
  {
   "cell_type": "code",
   "execution_count": 50,
   "metadata": {},
   "outputs": [
    {
     "data": {
      "text/plain": [
       "0.9955321324111159"
      ]
     },
     "execution_count": 50,
     "metadata": {},
     "output_type": "execute_result"
    }
   ],
   "source": [
    "\n",
    "true_relevance = np.asarray([test_df[test_df['User-ID'] == 3542][TARGET[0]].tolist()])\n",
    "y_relevance = np.asarray([test_df[test_df['User-ID'] == 3542]['score'].tolist()])\n",
    "\n",
    "ndcg_score(true_relevance, y_relevance) "
   ]
  }
 ],
 "metadata": {
  "kernelspec": {
   "display_name": "tide",
   "language": "python",
   "name": "python3"
  },
  "language_info": {
   "codemirror_mode": {
    "name": "ipython",
    "version": 3
   },
   "file_extension": ".py",
   "mimetype": "text/x-python",
   "name": "python",
   "nbconvert_exporter": "python",
   "pygments_lexer": "ipython3",
   "version": "3.10.13"
  }
 },
 "nbformat": 4,
 "nbformat_minor": 2
}
